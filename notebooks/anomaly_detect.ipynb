{
 "cells": [
  {
   "cell_type": "code",
   "execution_count": 1,
   "id": "294ba915-23d1-4730-b0fd-71cedf6a414d",
   "metadata": {},
   "outputs": [],
   "source": [
    "from typing import Tuple, Union\n",
    "\n",
    "import btrdb\n",
    "\n",
    "from btrdb.stream import Stream\n",
    "\n",
    "from btrdb.utils.general import pointwidth\n",
    "from btrdb.utils.timez import ns_to_datetime, to_nanoseconds\n",
    "\n",
    "conn = btrdb.connect()"
   ]
  },
  {
   "cell_type": "code",
   "execution_count": 2,
   "id": "b4529bc6-52c7-4bd3-8920-fa02487f96af",
   "metadata": {},
   "outputs": [
    {
     "data": {
      "text/plain": [
       "UUID('d60fc469-a6da-4c98-8763-fd833293d955')"
      ]
     },
     "execution_count": 2,
     "metadata": {},
     "output_type": "execute_result"
    }
   ],
   "source": [
    "streams = conn.streams_in_collection(\"sunshine\", tags={\"unit\": \"volts\"})\n",
    "stream = streams[0]\n",
    "stream.uuid"
   ]
  },
  {
   "cell_type": "code",
   "execution_count": 3,
   "id": "81a18c56-a0ba-4e83-a14c-00695a92919c",
   "metadata": {},
   "outputs": [
    {
     "data": {
      "text/plain": [
       "(1456790400008333000, 1464738830333333000, <pointwidth 52>)"
      ]
     },
     "execution_count": 3,
     "metadata": {},
     "output_type": "execute_result"
    }
   ],
   "source": [
    "# initializing the start, end, and pointwidth\n",
    "start = stream.earliest()[0].time\n",
    "end = stream.latest()[0].time\n",
    "initial_pw: int = pointwidth.from_nanoseconds(end - start)\n",
    "version = 0\n",
    "start, end, initial_pw"
   ]
  },
  {
   "cell_type": "markdown",
   "id": "6067db23-609d-40cc-b25f-e05cabe75f32",
   "metadata": {},
   "source": [
    "### Search for a measurement equals to specific value\n",
    "To reduce the search, the equality is limited by the specified global aggregation `min` or `max` especially works well. \n",
    "This would be mostly used for identically 0.0 values. "
   ]
  },
  {
   "cell_type": "code",
   "execution_count": 4,
   "id": "98727da7-dcad-4b6b-8ad4-91503dd025a6",
   "metadata": {},
   "outputs": [],
   "source": [
    "def search_timestamps_at_agg_value(\n",
    "    stream: Stream,\n",
    "    value: Union[int, float],\n",
    "    agg: str,\n",
    "    start: int,\n",
    "    end: int,\n",
    "    tol=1e-3,\n",
    "    initial_pw: int = 49,\n",
    "    final_pw: int = 36,\n",
    "    return_rawpoint_timestamps: bool = False,\n",
    "    version: int = 0,\n",
    ") -> tuple:\n",
    "    \"\"\"\n",
    "    Find points in stream between `start` and `end` that are equal to the specified `threshold`\n",
    "    using StatPoints recursively through BTrDB tree.\n",
    "    Parameters\n",
    "    ----------\n",
    "    stream: Stream\n",
    "        Stream to search\n",
    "    value: tuple of (agg,threshold)\n",
    "        Find values with given aggregate and threshold value.\n",
    "    start: int\n",
    "        The start time in nanoseconds for the range to search from.\n",
    "    end: int\n",
    "        The end time in nanoseconds for the range to search from.\n",
    "    initial_pw: int or pointwidth, default: 49\n",
    "        Initial query pointwidth of tree traversal, Default is 49 (approximately 7 days).\n",
    "    final_pw: int, default: 36\n",
    "        Final pointwidth depth to use tree traversal with StatPoints and to search with RawPoints. Default is 36\n",
    "        (approximately 1.15 minutes).\n",
    "    return_rawpoint_timestamps: bool, default: False\n",
    "        Return RawPoint timestamps if `True`, else returns time-range tuples of start and end timestamps of the\n",
    "        StatPoints windows that is equal to threshold.\n",
    "    version: int, default: 0\n",
    "        Version of the stream to search from.\n",
    "    Yields\n",
    "    ------\n",
    "    tuple\n",
    "        Timestamp (nanoseconds) of start (and end if equal to threshold for more than specified max depth, default\n",
    "        ~1.15 minutes) timestamps of event.\n",
    "    \"\"\"\n",
    "    all_measure_aggs = [\"min\", \"mean\", \"max\"]\n",
    "    assert isinstance(\n",
    "        initial_pw, (int, pointwidth)\n",
    "    ), \"Please provide `initial_pw` as an integer or pointwidth object\"\n",
    "    if isinstance(initial_pw, int):\n",
    "        initial_pw = pointwidth(\n",
    "            initial_pw\n",
    "        )  # convert initial_pw integer to pointwidth object\n",
    "    stack = [(start, end, initial_pw)]\n",
    "    while stack:\n",
    "        wstart, wend, pw = stack.pop()\n",
    "        windows = stream.arrow_aligned_windows(\n",
    "            wstart, wend, int(pw), version\n",
    "        ).to_pylist()\n",
    "        for window in windows:\n",
    "            wstart = window[\"time\"].value\n",
    "            wend = wstart + pw.nanoseconds\n",
    "            if not return_rawpoint_timestamps and all(\n",
    "                [window[_agg] == value for _agg in all_measure_aggs]\n",
    "            ):\n",
    "                # only returns the window if the window's mean is close to value and stddev are smaller than 2x tolerance\n",
    "                yield (wstart, wend)\n",
    "            elif (value - tol) <= window[agg] <= (value + tol):\n",
    "                # If we are at a window length of a max_depth, use values\n",
    "                if pw <= final_pw and not return_rawpoint_timestamps:\n",
    "                    points = []\n",
    "                    yield (wstart, wend)\n",
    "                elif return_rawpoint_timestamps and pw <= final_pw:\n",
    "                    points = stream.arrow_values(wstart, wend, version).to_pylist()\n",
    "                else:\n",
    "                    stack.append((wstart, wend, pw - 2))\n",
    "                    continue\n",
    "\n",
    "                for point in points:\n",
    "                    if isinstance(point, dict):\n",
    "                        if value - tol <= point[\"value\"] <= value + tol:\n",
    "                            yield (point[\"time\"].value,)\n",
    "                    else:\n",
    "                        yield point"
   ]
  },
  {
   "cell_type": "code",
   "execution_count": 5,
   "id": "7ac9f854-4a2f-4645-b0c3-ef3f6621bae9",
   "metadata": {},
   "outputs": [
    {
     "data": {
      "text/plain": [
       "[('2016-03-15T22:16:07.938228+00:00', '2016-03-15T22:17:16.657705+00:00')]"
      ]
     },
     "execution_count": 5,
     "metadata": {},
     "output_type": "execute_result"
    }
   ],
   "source": [
    "detect_generator = search_timestamps_at_agg_value(\n",
    "    stream, 240.4445343017578, \"min\", start, end, initial_pw=initial_pw\n",
    ")\n",
    "timestamps = [\n",
    "    (ns_to_datetime(start).isoformat(), ns_to_datetime(end).isoformat())\n",
    "    for start, end in detect_generator\n",
    "]\n",
    "timestamps"
   ]
  },
  {
   "cell_type": "code",
   "execution_count": 6,
   "id": "9b6bd1f5-f30d-404c-9564-8a84943ead8b",
   "metadata": {
    "scrolled": true
   },
   "outputs": [
    {
     "data": {
      "text/plain": [
       "[('2016-04-19T13:21:16.516360+00:00', '2016-04-19T13:22:25.235837+00:00')]"
      ]
     },
     "execution_count": 6,
     "metadata": {},
     "output_type": "execute_result"
    }
   ],
   "source": [
    "detect_generator = search_timestamps_at_agg_value(\n",
    "    stream, 293.46502685546875, \"max\", start, end, initial_pw=initial_pw\n",
    ")\n",
    "timestamps = [\n",
    "    (ns_to_datetime(start).isoformat(), ns_to_datetime(end).isoformat())\n",
    "    for start, end in detect_generator\n",
    "]\n",
    "timestamps"
   ]
  },
  {
   "cell_type": "code",
   "execution_count": 11,
   "id": "5dede797-753c-4136-9317-21d5354bf35e",
   "metadata": {},
   "outputs": [
    {
     "name": "stdout",
     "output_type": "stream",
     "text": [
      "[1458080218574999000]\n"
     ]
    },
    {
     "data": {
      "text/plain": [
       "pyarrow.Table\n",
       "time: timestamp[ns, tz=UTC] not null\n",
       "value: double not null\n",
       "----\n",
       "time: [[2016-03-15 22:16:58.574999000]]\n",
       "value: [[240.4445343017578]]"
      ]
     },
     "execution_count": 11,
     "metadata": {},
     "output_type": "execute_result"
    }
   ],
   "source": [
    "# get the rawpoints timestamp, not a range:\n",
    "detect_generator = search_timestamps_at_agg_value(\n",
    "    stream, 240.444534, \"min\", start, end, tol=1e-1, return_rawpoint_timestamps=True\n",
    ")\n",
    "timestamps = [time[0] for time in detect_generator]\n",
    "print(timestamps)\n",
    "\n",
    "# check if the point is the `min` value of `240.4445343017578`\n",
    "event_time = timestamps[0]\n",
    "stream.arrow_values(event_time, event_time + 1)"
   ]
  },
  {
   "cell_type": "markdown",
   "id": "7e9e8e25-2128-443f-b919-4e2782be0d93",
   "metadata": {},
   "source": [
    "#\n",
    "If the value is not a global min or max still need implementation and returns an error. we have detectors"
   ]
  },
  {
   "cell_type": "code",
   "execution_count": 12,
   "id": "10b3ca91-b7dc-40be-93c8-c91137f5fc22",
   "metadata": {},
   "outputs": [
    {
     "name": "stdout",
     "output_type": "stream",
     "text": [
      "[]\n"
     ]
    }
   ],
   "source": [
    "detect_generator = search_timestamps_at_agg_value(\n",
    "    stream, 250.444534, \"min\", start, end, tol=1e-1, return_rawpoint_timestamps=True\n",
    ")\n",
    "timestamps = [time[0] for time in detect_generator]\n",
    "print(timestamps)"
   ]
  },
  {
   "cell_type": "code",
   "execution_count": null,
   "id": "df2ed02a-92d7-44d3-be35-d69b9be7a2b7",
   "metadata": {},
   "outputs": [],
   "source": []
  }
 ],
 "metadata": {
  "kernelspec": {
   "display_name": "Python 3 (ipykernel)",
   "language": "python",
   "name": "python3"
  },
  "language_info": {
   "codemirror_mode": {
    "name": "ipython",
    "version": 3
   },
   "file_extension": ".py",
   "mimetype": "text/x-python",
   "name": "python",
   "nbconvert_exporter": "python",
   "pygments_lexer": "ipython3",
   "version": "3.10.11"
  }
 },
 "nbformat": 4,
 "nbformat_minor": 5
}
