{
 "cells": [
  {
   "cell_type": "markdown",
   "id": "e098fb88",
   "metadata": {},
   "source": [
    "# Data Quality API\n",
    "The purpose of this notebook is to demonstrate how to use the Data Quality API to access a BTrDB Stream's distillates and identify data quality issues"
   ]
  },
  {
   "cell_type": "code",
   "execution_count": 1,
   "id": "b9fd9b87",
   "metadata": {},
   "outputs": [],
   "source": [
    "import btrdb\n",
    "from btrdbextras.dq import DQStream, DQStreamSet"
   ]
  },
  {
   "cell_type": "code",
   "execution_count": 2,
   "id": "41ca35c9",
   "metadata": {},
   "outputs": [
    {
     "data": {
      "text/plain": [
       "{'majorVersion': 5, 'build': '5.11.133', 'proxy': {'proxyEndpoints': []}}"
      ]
     },
     "execution_count": 2,
     "metadata": {},
     "output_type": "execute_result"
    }
   ],
   "source": [
    "# this is a temporary test cluster\n",
    "db = btrdb.connect(profile=\"d2\")\n",
    "db.info()"
   ]
  },
  {
   "cell_type": "markdown",
   "id": "3a2321a8",
   "metadata": {},
   "source": [
    "First we will see how to work with a single BTrDB Stream. `DQStream` subsets `Stream`, and can be instantiated by simply passing in a BTrDB `Stream` object."
   ]
  },
  {
   "cell_type": "code",
   "execution_count": 3,
   "id": "a2b466a9",
   "metadata": {},
   "outputs": [
    {
     "name": "stdout",
     "output_type": "stream",
     "text": [
      "DQStream collection=distiltest/a574-5a32-518b-b4e9-c9c86144107a, name=rand\n"
     ]
    }
   ],
   "source": [
    "stream = db.stream_from_uuid(\"9464f51f-e05a-5db1-a965-3c339f748081\")\n",
    "dq = DQStream(stream)\n",
    "print(dq)"
   ]
  },
  {
   "cell_type": "markdown",
   "id": "88454b01",
   "metadata": {},
   "source": [
    "`DQStream` has all of the same attributes and methods as `Stream`, but it has an additional attribute `distillates`, which refers to a list of all of the distillate streams that have been derived from this source stream. We can use these distillates to identify specific data quality concerns."
   ]
  },
  {
   "cell_type": "markdown",
   "id": "46f73253",
   "metadata": {},
   "source": [
    "## Detecting Events\n",
    "We can use the `DQStream` to identify if the original `Stream` contains data quality issues. There are two methods for this: `contains_any_event()`, which reports if there are _any_ data quality concerns within the stream, as well as `contains_event()`, which reports if there is a specific data quality issue based on a user provided flag. Users can use the `list_distillates()` method to see which distillates are available"
   ]
  },
  {
   "cell_type": "code",
   "execution_count": 4,
   "id": "a7abb3bd",
   "metadata": {},
   "outputs": [
    {
     "data": {
      "text/html": [
       "<table>\n",
       "<thead>\n",
       "<tr><th>uuid       </th><th>collection                                 </th><th>name  </th><th>repeats  </th><th>duplicate-times  </th><th>zeros  </th></tr>\n",
       "</thead>\n",
       "<tbody>\n",
       "<tr><td>9464f51f...</td><td>distiltest/a574-5a32-518b-b4e9-c9c86144107a</td><td>rand  </td><td>x        </td><td>✓                </td><td>✓      </td></tr>\n",
       "</tbody>\n",
       "</table>"
      ],
      "text/plain": [
       "'<table>\\n<thead>\\n<tr><th>uuid       </th><th>collection                                 </th><th>name  </th><th>repeats  </th><th>duplicate-times  </th><th>zeros  </th></tr>\\n</thead>\\n<tbody>\\n<tr><td>9464f51f...</td><td>distiltest/a574-5a32-518b-b4e9-c9c86144107a</td><td>rand  </td><td>x        </td><td>✓                </td><td>✓      </td></tr>\\n</tbody>\\n</table>'"
      ]
     },
     "execution_count": 4,
     "metadata": {},
     "output_type": "execute_result"
    }
   ],
   "source": [
    "# see which distillates are available\n",
    "dq.list_distillates(notebook=True)"
   ]
  },
  {
   "cell_type": "markdown",
   "id": "4cae5a7e",
   "metadata": {},
   "source": [
    "According to the table, this stream has `zeros` and `duplicate-times` distillates available, so let's see if we can find any events:"
   ]
  },
  {
   "cell_type": "code",
   "execution_count": 5,
   "id": "4ebe2867",
   "metadata": {},
   "outputs": [
    {
     "data": {
      "text/plain": [
       "True"
      ]
     },
     "execution_count": 5,
     "metadata": {},
     "output_type": "execute_result"
    }
   ],
   "source": [
    "dq.contains_any_event()"
   ]
  },
  {
   "cell_type": "code",
   "execution_count": 6,
   "id": "f849be7c",
   "metadata": {},
   "outputs": [
    {
     "data": {
      "text/plain": [
       "True"
      ]
     },
     "execution_count": 6,
     "metadata": {},
     "output_type": "execute_result"
    }
   ],
   "source": [
    "dq.contains_event(\"zeros\")"
   ]
  },
  {
   "cell_type": "markdown",
   "id": "52be22ea",
   "metadata": {},
   "source": [
    "It looks like this stream contains some zero values.\n",
    "\n",
    "We can also narrow our search to a specific time limit. You can see in the following example that this stream does not contain any zero values on July 16th:"
   ]
  },
  {
   "cell_type": "code",
   "execution_count": 7,
   "id": "9627bb87",
   "metadata": {},
   "outputs": [
    {
     "data": {
      "text/plain": [
       "False"
      ]
     },
     "execution_count": 7,
     "metadata": {},
     "output_type": "execute_result"
    }
   ],
   "source": [
    "start = \"2021-07-16 00:00:00.00\"\n",
    "end = \"2021-07-17 00:00:00.00\"\n",
    "dq.contains_event(\"zeros\", start=start, end=end)"
   ]
  },
  {
   "cell_type": "markdown",
   "id": "c1c5477d",
   "metadata": {},
   "source": [
    "## Working with StreamSets\n",
    "The API can also work with `StreamSets`. Similar to `StreamSet`, `DQStreamSet` is just a lightweight wrapper around a list of `DQStreams`. It can be instantiated by providing a list of `Streams`:"
   ]
  },
  {
   "cell_type": "code",
   "execution_count": 4,
   "id": "845f3d91",
   "metadata": {},
   "outputs": [
    {
     "name": "stderr",
     "output_type": "stream",
     "text": [
      "/Users/michael.chestnut/projects/btrdbextras/btrdbextras/dq.py:92: UserWarning: Could not find distillates for stream 077d6745-e3ae-5795-b22d-1eb067abb360\n",
      "  warnings.warn(f\"Could not find distillates for stream {str(self.uuid)}\")\n"
     ]
    },
    {
     "data": {
      "text/plain": [
       "<DQStreamSet (2 streams)>"
      ]
     },
     "execution_count": 4,
     "metadata": {},
     "output_type": "execute_result"
    }
   ],
   "source": [
    "stream1 = db.stream_from_uuid(\"9464f51f-e05a-5db1-a965-3c339f748081\")\n",
    "stream2 = db.stream_from_uuid(\"077d6745-e3ae-5795-b22d-1eb067abb360\")\n",
    "dqss = DQStreamSet([stream1, stream2])\n",
    "dqss"
   ]
  },
  {
   "cell_type": "markdown",
   "id": "c4683eab",
   "metadata": {},
   "source": [
    "`DQStreamSet` has a `describe()` method that allows us to see metadata of the underlying `Streams`:"
   ]
  },
  {
   "cell_type": "code",
   "execution_count": 5,
   "id": "1acbaad5",
   "metadata": {},
   "outputs": [
    {
     "data": {
      "text/html": [
       "<table>\n",
       "<thead>\n",
       "<tr><th>Collection                                 </th><th>Name  </th><th>Unit  </th><th>UUID       </th><th style=\"text-align: right;\">  Version</th><th>Available Data Quality Info  </th></tr>\n",
       "</thead>\n",
       "<tbody>\n",
       "<tr><td>distiltest/a574-5a32-518b-b4e9-c9c86144107a</td><td>rand  </td><td>rand  </td><td>9464f51f...</td><td style=\"text-align: right;\">     1072</td><td>zeros, duplicate-times       </td></tr>\n",
       "<tr><td>distiltest/f0bd-d75b-582b-b8e9-ac9cc9401755</td><td>rand  </td><td>rand  </td><td>077d6745...</td><td style=\"text-align: right;\">     1072</td><td>N/A                          </td></tr>\n",
       "</tbody>\n",
       "</table>"
      ],
      "text/plain": [
       "'<table>\\n<thead>\\n<tr><th>Collection                                 </th><th>Name  </th><th>Unit  </th><th>UUID       </th><th style=\"text-align: right;\">  Version</th><th>Available Data Quality Info  </th></tr>\\n</thead>\\n<tbody>\\n<tr><td>distiltest/a574-5a32-518b-b4e9-c9c86144107a</td><td>rand  </td><td>rand  </td><td>9464f51f...</td><td style=\"text-align: right;\">     1072</td><td>zeros, duplicate-times       </td></tr>\\n<tr><td>distiltest/f0bd-d75b-582b-b8e9-ac9cc9401755</td><td>rand  </td><td>rand  </td><td>077d6745...</td><td style=\"text-align: right;\">     1072</td><td>N/A                          </td></tr>\\n</tbody>\\n</table>'"
      ]
     },
     "execution_count": 5,
     "metadata": {},
     "output_type": "execute_result"
    }
   ],
   "source": [
    "dqss.describe(notebook=True)"
   ]
  },
  {
   "cell_type": "markdown",
   "id": "b1b62fa3",
   "metadata": {},
   "source": [
    "We can also peak at the underlying `Streams` and see which distillates they have available. Note that the second `Stream` does not have any distillates."
   ]
  },
  {
   "cell_type": "code",
   "execution_count": 6,
   "id": "72d86d4b",
   "metadata": {},
   "outputs": [
    {
     "data": {
      "text/html": [
       "<table>\n",
       "<thead>\n",
       "<tr><th>uuid       </th><th>collection                                 </th><th>name  </th><th>repeats  </th><th>duplicate-times  </th><th>zeros  </th></tr>\n",
       "</thead>\n",
       "<tbody>\n",
       "<tr><td>9464f51f...</td><td>distiltest/a574-5a32-518b-b4e9-c9c86144107a</td><td>rand  </td><td>x        </td><td>✓                </td><td>✓      </td></tr>\n",
       "<tr><td>077d6745...</td><td>distiltest/f0bd-d75b-582b-b8e9-ac9cc9401755</td><td>rand  </td><td>x        </td><td>x                </td><td>x      </td></tr>\n",
       "</tbody>\n",
       "</table>"
      ],
      "text/plain": [
       "'<table>\\n<thead>\\n<tr><th>uuid       </th><th>collection                                 </th><th>name  </th><th>repeats  </th><th>duplicate-times  </th><th>zeros  </th></tr>\\n</thead>\\n<tbody>\\n<tr><td>9464f51f...</td><td>distiltest/a574-5a32-518b-b4e9-c9c86144107a</td><td>rand  </td><td>x        </td><td>✓                </td><td>✓      </td></tr>\\n<tr><td>077d6745...</td><td>distiltest/f0bd-d75b-582b-b8e9-ac9cc9401755</td><td>rand  </td><td>x        </td><td>x                </td><td>x      </td></tr>\\n</tbody>\\n</table>'"
      ]
     },
     "execution_count": 6,
     "metadata": {},
     "output_type": "execute_result"
    }
   ],
   "source": [
    "dqss.list_distillates(notebook=True)"
   ]
  },
  {
   "cell_type": "markdown",
   "id": "6cbdba9c",
   "metadata": {},
   "source": [
    "We can also see if the `Streams` within a `DQStreamSet` contain any events. The output of these methods is a `dict` with each `Stream` UUID as the key and a bool value indicating whether an event was found. Note that `None` will be returned as the value if the `DQStream` does not contain a certain distillate."
   ]
  },
  {
   "cell_type": "code",
   "execution_count": 7,
   "id": "672d6a78",
   "metadata": {},
   "outputs": [
    {
     "data": {
      "text/plain": [
       "{'9464f51f-e05a-5db1-a965-3c339f748081': True,\n",
       " '077d6745-e3ae-5795-b22d-1eb067abb360': None}"
      ]
     },
     "execution_count": 7,
     "metadata": {},
     "output_type": "execute_result"
    }
   ],
   "source": [
    "dqss.contains_any_event()"
   ]
  },
  {
   "cell_type": "code",
   "execution_count": 9,
   "id": "3f9bf9b3",
   "metadata": {},
   "outputs": [
    {
     "data": {
      "text/plain": [
       "{'9464f51f-e05a-5db1-a965-3c339f748081': True,\n",
       " '077d6745-e3ae-5795-b22d-1eb067abb360': None}"
      ]
     },
     "execution_count": 9,
     "metadata": {},
     "output_type": "execute_result"
    }
   ],
   "source": [
    "dqss.contains_event(\"duplicate-times\")"
   ]
  },
  {
   "cell_type": "code",
   "execution_count": 10,
   "id": "ffe929fd",
   "metadata": {},
   "outputs": [
    {
     "data": {
      "text/plain": [
       "{'9464f51f-e05a-5db1-a965-3c339f748081': True,\n",
       " '077d6745-e3ae-5795-b22d-1eb067abb360': None}"
      ]
     },
     "execution_count": 10,
     "metadata": {},
     "output_type": "execute_result"
    }
   ],
   "source": [
    "dqss.contains_event(\"zeros\")"
   ]
  },
  {
   "cell_type": "markdown",
   "id": "cbee33c1",
   "metadata": {},
   "source": [
    "## Notes\n",
    "* distillates will need to follow a certain naming convention for this to work properly.\n",
    "* distillers will need to put `source_uuid` annotation in output streams so they can be correctly matched with their source streams."
   ]
  },
  {
   "cell_type": "code",
   "execution_count": null,
   "id": "af8c65e3",
   "metadata": {},
   "outputs": [],
   "source": []
  }
 ],
 "metadata": {
  "kernelspec": {
   "display_name": "Python 3 (ipykernel)",
   "language": "python",
   "name": "python3"
  },
  "language_info": {
   "codemirror_mode": {
    "name": "ipython",
    "version": 3
   },
   "file_extension": ".py",
   "mimetype": "text/x-python",
   "name": "python",
   "nbconvert_exporter": "python",
   "pygments_lexer": "ipython3",
   "version": "3.7.6"
  }
 },
 "nbformat": 4,
 "nbformat_minor": 5
}
