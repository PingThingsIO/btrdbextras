{
 "cells": [
  {
   "cell_type": "markdown",
   "id": "e098fb88",
   "metadata": {},
   "source": [
    "# Data Quality API\n",
    "The purpose of this notebook is to demonstrate a POC Data Quality API that can be used to access a BTrDB stream's distillate streams and use them to identify data quality events."
   ]
  },
  {
   "cell_type": "code",
   "execution_count": 1,
   "id": "b9fd9b87",
   "metadata": {},
   "outputs": [],
   "source": [
    "import btrdb\n",
    "from btrdbextras.dq import DQStream, DQStreamSet"
   ]
  },
  {
   "cell_type": "code",
   "execution_count": 2,
   "id": "41ca35c9",
   "metadata": {},
   "outputs": [
    {
     "data": {
      "text/plain": [
       "{'majorVersion': 5, 'build': '5.11.137', 'proxy': {'proxyEndpoints': []}}"
      ]
     },
     "execution_count": 2,
     "metadata": {},
     "output_type": "execute_result"
    }
   ],
   "source": [
    "db = btrdb.connect(profile=\"ni4ai\")\n",
    "db.info()"
   ]
  },
  {
   "cell_type": "markdown",
   "id": "3a2321a8",
   "metadata": {},
   "source": [
    "First we will see how to work with a single BTrDB Stream. `DQStream` inherits from `Stream`, and can be instantiated by simply passing in a BTrDB `Stream` object."
   ]
  },
  {
   "cell_type": "code",
   "execution_count": 4,
   "id": "a2b466a9",
   "metadata": {},
   "outputs": [
    {
     "name": "stdout",
     "output_type": "stream",
     "text": [
      "DQStream collection=monitoring/generator1, name=PhA_Cang\n"
     ]
    }
   ],
   "source": [
    "stream = db.stream_from_uuid(\"4f8a9730-80e6-4378-948d-cb64a277f8f3\")\n",
    "dq = DQStream(stream)\n",
    "print(dq)"
   ]
  },
  {
   "cell_type": "markdown",
   "id": "526040e1",
   "metadata": {},
   "source": [
    "`DQStream` has all of the same attributes and methods as `Stream`, as well as an additional attribute, `distillates`. Distillates is a list of all of the distillate streams that have been derived from the source stream. Each distillate is a sparse stream that contains only values of 1 at timestamps where a specific data quality issue has occurred. We can use these distillates to identify specific data quality concerns for a given `Stream`."
   ]
  },
  {
   "cell_type": "markdown",
   "id": "3f4e2917",
   "metadata": {},
   "source": [
    "## Detecting Events\n",
    "We can use the `DQStream` to identify if the original `Stream` contains data quality issues. There are two methods for this: `contains_any_issue()`, which reports if there are _any_ data quality concerns within the stream, as well as `contains_issue()`, which reports if there is a specific data quality issue based on a user provided flag. Users can use the `list_distillates()` method to see which distillates are available:"
   ]
  },
  {
   "cell_type": "code",
   "execution_count": 5,
   "id": "c3bb9a8e",
   "metadata": {},
   "outputs": [
    {
     "data": {
      "text/plain": [
       "{'uuid': '4f8a9730-80e6-4378-948d-cb64a277f8f3',\n",
       " 'collection': 'monitoring/generator1',\n",
       " 'name': 'PhA_Cang',\n",
       " 'repeats': True,\n",
       " 'duplicate-times': True,\n",
       " 'zeros': True}"
      ]
     },
     "execution_count": 5,
     "metadata": {},
     "output_type": "execute_result"
    }
   ],
   "source": [
    "# see which distillates are available\n",
    "dq.list_distillates()"
   ]
  },
  {
   "cell_type": "markdown",
   "id": "a72a0f80",
   "metadata": {},
   "source": [
    "According to the output, this stream has `zeros`, `repeats`, and `duplicate-times` distillates available, so let's see if we can find any events:"
   ]
  },
  {
   "cell_type": "code",
   "execution_count": 6,
   "id": "70b46454",
   "metadata": {},
   "outputs": [
    {
     "data": {
      "text/plain": [
       "True"
      ]
     },
     "execution_count": 6,
     "metadata": {},
     "output_type": "execute_result"
    }
   ],
   "source": [
    "dq.contains_any_issue()"
   ]
  },
  {
   "cell_type": "code",
   "execution_count": 6,
   "id": "9014c0cb",
   "metadata": {},
   "outputs": [
    {
     "data": {
      "text/plain": [
       "True"
      ]
     },
     "execution_count": 6,
     "metadata": {},
     "output_type": "execute_result"
    }
   ],
   "source": [
    "dq.contains_issue(\"zeros\")"
   ]
  },
  {
   "cell_type": "code",
   "execution_count": 7,
   "id": "2cfe8220",
   "metadata": {},
   "outputs": [
    {
     "data": {
      "text/plain": [
       "False"
      ]
     },
     "execution_count": 7,
     "metadata": {},
     "output_type": "execute_result"
    }
   ],
   "source": [
    "dq.contains_issue(\"repeats\")"
   ]
  },
  {
   "cell_type": "code",
   "execution_count": 8,
   "id": "55e88edb",
   "metadata": {},
   "outputs": [
    {
     "data": {
      "text/plain": [
       "False"
      ]
     },
     "execution_count": 8,
     "metadata": {},
     "output_type": "execute_result"
    }
   ],
   "source": [
    "dq.contains_issue(\"duplicate-times\")"
   ]
  },
  {
   "cell_type": "markdown",
   "id": "9cf536b5",
   "metadata": {},
   "source": [
    "It looks like this stream contains zero values, but does not contain repeats or duplicate timestamps.\n",
    "\n",
    "We can also narrow our search to a specific time limit. You can see in the following example that this stream does not contain any zero values on July 16th:"
   ]
  },
  {
   "cell_type": "code",
   "execution_count": 9,
   "id": "b5721cd7",
   "metadata": {},
   "outputs": [
    {
     "data": {
      "text/plain": [
       "False"
      ]
     },
     "execution_count": 9,
     "metadata": {},
     "output_type": "execute_result"
    }
   ],
   "source": [
    "start = \"2021-07-16 00:00:00.00\"\n",
    "end = \"2021-07-17 00:00:00.00\"\n",
    "dq.contains_issue(\"zeros\", start=start, end=end)"
   ]
  },
  {
   "cell_type": "markdown",
   "id": "4df83597",
   "metadata": {},
   "source": [
    "## Working with StreamSets\n",
    "The API can also work with `StreamSets`. Similar to `StreamSet`, `DQStreamSet` is just a lightweight wrapper around a list of `DQStreams`. It can be instantiated by providing a list of `Streams`:"
   ]
  },
  {
   "cell_type": "code",
   "execution_count": 10,
   "id": "66c2c8b9",
   "metadata": {},
   "outputs": [
    {
     "data": {
      "text/plain": [
       "<DQStreamSet (2 streams)>"
      ]
     },
     "execution_count": 10,
     "metadata": {},
     "output_type": "execute_result"
    }
   ],
   "source": [
    "stream1 = db.stream_from_uuid(\"4f8a9730-80e6-4378-948d-cb64a277f8f3\")\n",
    "stream2 = db.stream_from_uuid(\"53daa83c-f5fb-4520-b2fe-82c144e3dbef\")\n",
    "dqss = DQStreamSet([stream1, stream2])\n",
    "dqss"
   ]
  },
  {
   "cell_type": "markdown",
   "id": "d465edd9",
   "metadata": {},
   "source": [
    "`DQStreamSet` has a `describe()` method that allows us to see metadata of the underlying `Streams`:"
   ]
  },
  {
   "cell_type": "code",
   "execution_count": 12,
   "id": "bacbbb52",
   "metadata": {},
   "outputs": [
    {
     "data": {
      "text/html": [
       "<table>\n",
       "<thead>\n",
       "<tr><th>Collection           </th><th>Name    </th><th>Unit   </th><th>UUID       </th><th style=\"text-align: right;\">  Version</th><th>Available Data Quality Info    </th></tr>\n",
       "</thead>\n",
       "<tbody>\n",
       "<tr><td>monitoring/generator1</td><td>PhA_Cang</td><td>Degrees</td><td>4f8a9730...</td><td style=\"text-align: right;\">     1357</td><td>repeats, zeros, duplicate-times</td></tr>\n",
       "<tr><td>monitoring/generator2</td><td>PhA_Cang</td><td>Degrees</td><td>53daa83c...</td><td style=\"text-align: right;\">     1366</td><td>zeros, repeats, duplicate-times</td></tr>\n",
       "</tbody>\n",
       "</table>"
      ],
      "text/plain": [
       "'<table>\\n<thead>\\n<tr><th>Collection           </th><th>Name    </th><th>Unit   </th><th>UUID       </th><th style=\"text-align: right;\">  Version</th><th>Available Data Quality Info    </th></tr>\\n</thead>\\n<tbody>\\n<tr><td>monitoring/generator1</td><td>PhA_Cang</td><td>Degrees</td><td>4f8a9730...</td><td style=\"text-align: right;\">     1357</td><td>repeats, zeros, duplicate-times</td></tr>\\n<tr><td>monitoring/generator2</td><td>PhA_Cang</td><td>Degrees</td><td>53daa83c...</td><td style=\"text-align: right;\">     1366</td><td>zeros, repeats, duplicate-times</td></tr>\\n</tbody>\\n</table>'"
      ]
     },
     "execution_count": 12,
     "metadata": {},
     "output_type": "execute_result"
    }
   ],
   "source": [
    "dqss.describe(notebook=True)"
   ]
  },
  {
   "cell_type": "markdown",
   "id": "7e0e44e3",
   "metadata": {},
   "source": [
    "We can also peak at the underlying `Streams` and see which distillates they have available. Note that the second `Stream` does not have any distillates."
   ]
  },
  {
   "cell_type": "code",
   "execution_count": 13,
   "id": "0d6a6710",
   "metadata": {},
   "outputs": [
    {
     "data": {
      "text/plain": [
       "[{'uuid': '4f8a9730-80e6-4378-948d-cb64a277f8f3',\n",
       "  'collection': 'monitoring/generator1',\n",
       "  'name': 'PhA_Cang',\n",
       "  'repeats': True,\n",
       "  'duplicate-times': True,\n",
       "  'zeros': True},\n",
       " {'uuid': '53daa83c-f5fb-4520-b2fe-82c144e3dbef',\n",
       "  'collection': 'monitoring/generator2',\n",
       "  'name': 'PhA_Cang',\n",
       "  'repeats': True,\n",
       "  'duplicate-times': True,\n",
       "  'zeros': True}]"
      ]
     },
     "execution_count": 13,
     "metadata": {},
     "output_type": "execute_result"
    }
   ],
   "source": [
    "dqss.list_distillates()"
   ]
  },
  {
   "cell_type": "markdown",
   "id": "c6c0426a",
   "metadata": {},
   "source": [
    "We can also see if the `Streams` within a `DQStreamSet` contain any events. The output of these methods is a `dict` with each `Stream` UUID as the key and a bool value indicating whether an event was found. Note that `None` will be returned as the value if the `DQStream` does not contain a certain distillate."
   ]
  },
  {
   "cell_type": "code",
   "execution_count": 14,
   "id": "0ca2062a",
   "metadata": {},
   "outputs": [
    {
     "data": {
      "text/plain": [
       "{'4f8a9730-80e6-4378-948d-cb64a277f8f3': True,\n",
       " '53daa83c-f5fb-4520-b2fe-82c144e3dbef': True}"
      ]
     },
     "execution_count": 14,
     "metadata": {},
     "output_type": "execute_result"
    }
   ],
   "source": [
    "dqss.contains_any_issue()"
   ]
  },
  {
   "cell_type": "code",
   "execution_count": 15,
   "id": "335c7841",
   "metadata": {},
   "outputs": [
    {
     "data": {
      "text/plain": [
       "{'4f8a9730-80e6-4378-948d-cb64a277f8f3': False,\n",
       " '53daa83c-f5fb-4520-b2fe-82c144e3dbef': False}"
      ]
     },
     "execution_count": 15,
     "metadata": {},
     "output_type": "execute_result"
    }
   ],
   "source": [
    "dqss.contains_issue(\"duplicate-times\")"
   ]
  },
  {
   "cell_type": "code",
   "execution_count": 16,
   "id": "58310f50",
   "metadata": {},
   "outputs": [
    {
     "data": {
      "text/plain": [
       "{'4f8a9730-80e6-4378-948d-cb64a277f8f3': True,\n",
       " '53daa83c-f5fb-4520-b2fe-82c144e3dbef': True}"
      ]
     },
     "execution_count": 16,
     "metadata": {},
     "output_type": "execute_result"
    }
   ],
   "source": [
    "dqss.contains_issue(\"zeros\")"
   ]
  },
  {
   "cell_type": "markdown",
   "id": "3934080a",
   "metadata": {},
   "source": [
    "## Notes\n",
    "* distillates will need to follow a certain naming convention for this to work properly.\n",
    "* distillers will need to put `source_uuid` annotation in output streams so they can be correctly matched with their source streams."
   ]
  },
  {
   "cell_type": "code",
   "execution_count": null,
   "id": "0c5e75d8",
   "metadata": {},
   "outputs": [],
   "source": []
  }
 ],
 "metadata": {
  "kernelspec": {
   "display_name": "Python 3 (ipykernel)",
   "language": "python",
   "name": "python3"
  },
  "language_info": {
   "codemirror_mode": {
    "name": "ipython",
    "version": 3
   },
   "file_extension": ".py",
   "mimetype": "text/x-python",
   "name": "python",
   "nbconvert_exporter": "python",
   "pygments_lexer": "ipython3",
   "version": "3.7.6"
  }
 },
 "nbformat": 4,
 "nbformat_minor": 5
}
